{
 "cells": [
  {
   "cell_type": "markdown",
   "metadata": {},
   "source": [
    "# Functions:\n",
    " - Code Reuseablity.\n",
    " - Simpler.\n",
    " - Program can be further divided into subprograms."
   ]
  },
  {
   "cell_type": "markdown",
   "metadata": {},
   "source": [
    "### Syntax:\n",
    " - def functionname():\n",
    "     - Statements\n",
    "     - return()"
   ]
  },
  {
   "cell_type": "code",
   "execution_count": null,
   "metadata": {},
   "outputs": [],
   "source": [
    "# Read a number \n",
    "# Output: Sum of even digits from the given number.\n",
    "#Input:1234\n",
    "#Output:6(2+4)"
   ]
  },
  {
   "cell_type": "code",
   "execution_count": 4,
   "metadata": {},
   "outputs": [
    {
     "name": "stdout",
     "output_type": "stream",
     "text": [
      "1234\n"
     ]
    },
    {
     "data": {
      "text/plain": [
       "6"
      ]
     },
     "execution_count": 4,
     "metadata": {},
     "output_type": "execute_result"
    }
   ],
   "source": [
    "def evenDigitSum():\n",
    "    n=int(input(\"\"))\n",
    "    s = 0\n",
    "    while n!=0:\n",
    "        r = n%10; #1234%10=4\n",
    "        if r%2==0:\n",
    "            s=s+r\n",
    "        n=n//10 #1234//10=123\n",
    "    return s\n",
    "evenDigitSum()"
   ]
  },
  {
   "cell_type": "code",
   "execution_count": 5,
   "metadata": {},
   "outputs": [
    {
     "data": {
      "text/plain": [
       "6"
      ]
     },
     "execution_count": 5,
     "metadata": {},
     "output_type": "execute_result"
    }
   ],
   "source": [
    "def evenDigitSum(n):\n",
    "    s = 0\n",
    "    while n!=0:\n",
    "        r = n%10; #1234%10=4\n",
    "        if r%2==0:\n",
    "            s=s+r\n",
    "        n=n//10 #1234//10=123\n",
    "    return s\n",
    "evenDigitSum(1234)"
   ]
  },
  {
   "cell_type": "code",
   "execution_count": 9,
   "metadata": {},
   "outputs": [
    {
     "name": "stdout",
     "output_type": "stream",
     "text": [
      "9\n"
     ]
    }
   ],
   "source": [
    "# Input: 19535\n",
    "# Output : 9 ( Print the largest digit from the given number)\n",
    "def largestDigit(n):\n",
    "    large=0\n",
    "    while n!=0:\n",
    "        r = n%10\n",
    "        if large<r:\n",
    "            large =r #large =3\n",
    "        n=n//10\n",
    "    print(large)\n",
    "largestDigit(19535)"
   ]
  },
  {
   "cell_type": "markdown",
   "metadata": {},
   "source": [
    "# For Loop:\n",
    "### Syntax:\n",
    " - for variable_name in iterable_obj:\n",
    "      - Statements\n",
    " -  for variable_name in range(start, stop, step):\n",
    "      - Statements"
   ]
  },
  {
   "cell_type": "code",
   "execution_count": 15,
   "metadata": {},
   "outputs": [
    {
     "name": "stdout",
     "output_type": "stream",
     "text": [
      "0\n",
      "2\n",
      "4\n",
      "6\n",
      "8\n",
      "10\n"
     ]
    }
   ],
   "source": [
    "for i in range(0, 10+1, 2):\n",
    "    print(i)"
   ]
  },
  {
   "cell_type": "code",
   "execution_count": null,
   "metadata": {},
   "outputs": [],
   "source": [
    "# Function to print the alternate numbers:\n",
    "#[500, 502]-- 502, 504, 506, 508, 510,........516, 518, 520"
   ]
  },
  {
   "cell_type": "code",
   "execution_count": 18,
   "metadata": {},
   "outputs": [
    {
     "name": "stdout",
     "output_type": "stream",
     "text": [
      "500 502 504 506 508 510 512 514 516 518 520 "
     ]
    }
   ],
   "source": [
    "def alternateNumbers(lb, ub):\n",
    "    for i in range(lb, ub+1, 2):\n",
    "        print(i, end = \" \")\n",
    "alternateNumbers(500,520)"
   ]
  },
  {
   "cell_type": "markdown",
   "metadata": {},
   "source": [
    "# Collection Types:\n",
    "#### 1. List\n",
    "#### 2. Tuple\n",
    "#### 3. Set\n",
    "#### 4. Dictionary"
   ]
  },
  {
   "cell_type": "markdown",
   "metadata": {},
   "source": [
    "### 1. List:\n",
    " - List is one of the data structure in python.\n",
    " - List are enabled in []\n",
    " - List=[1,2,3,4]\n",
    " - List will accept multiple datatypes."
   ]
  },
  {
   "cell_type": "code",
   "execution_count": 19,
   "metadata": {},
   "outputs": [
    {
     "data": {
      "text/plain": [
       "list"
      ]
     },
     "execution_count": 19,
     "metadata": {},
     "output_type": "execute_result"
    }
   ],
   "source": [
    "li = [1, \"Gitam\", \"Python\", 32.5]\n",
    "type(li)"
   ]
  },
  {
   "cell_type": "code",
   "execution_count": 20,
   "metadata": {},
   "outputs": [
    {
     "data": {
      "text/plain": [
       "1"
      ]
     },
     "execution_count": 20,
     "metadata": {},
     "output_type": "execute_result"
    }
   ],
   "source": [
    "li[0]"
   ]
  },
  {
   "cell_type": "code",
   "execution_count": 27,
   "metadata": {},
   "outputs": [
    {
     "name": "stdout",
     "output_type": "stream",
     "text": [
      "[1, 'Gitam', 'Python', 32.5]\n",
      "1\n",
      "32.5\n",
      "['Gitam']\n",
      "['Gitam', 'Python']\n"
     ]
    }
   ],
   "source": [
    "print(li)\n",
    "print(li[0])\n",
    "print(li[-1])\n",
    "print(li[1:2])\n",
    "print(li[1:3])"
   ]
  },
  {
   "cell_type": "code",
   "execution_count": null,
   "metadata": {},
   "outputs": [],
   "source": []
  }
 ],
 "metadata": {
  "kernelspec": {
   "display_name": "Python 3",
   "language": "python",
   "name": "python3"
  },
  "language_info": {
   "codemirror_mode": {
    "name": "ipython",
    "version": 3
   },
   "file_extension": ".py",
   "mimetype": "text/x-python",
   "name": "python",
   "nbconvert_exporter": "python",
   "pygments_lexer": "ipython3",
   "version": "3.7.4"
  }
 },
 "nbformat": 4,
 "nbformat_minor": 2
}
